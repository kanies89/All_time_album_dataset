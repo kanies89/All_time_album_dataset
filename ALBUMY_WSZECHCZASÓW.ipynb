{
 "cells": [
  {
   "cell_type": "code",
   "execution_count": 77,
   "id": "5acf6b25",
   "metadata": {},
   "outputs": [],
   "source": [
    "import pandas as pd\n",
    "import numpy as np"
   ]
  },
  {
   "cell_type": "markdown",
   "id": "b74a9e38",
   "metadata": {},
   "source": [
    "### Zamień nagłówki kolumn na polskie odpowiedniki: ['TYTUŁ','ARTYSTA','ROK','MAX POZ']"
   ]
  },
  {
   "cell_type": "code",
   "execution_count": 78,
   "id": "e411aa88",
   "metadata": {},
   "outputs": [],
   "source": [
    "data = pd.read_html('https://www.officialcharts.com/chart-news/the-best-selling-albums-of-all-time-on-the-official-uk-chart__15551/', header=0)"
   ]
  },
  {
   "cell_type": "code",
   "execution_count": 79,
   "id": "1c92aad8",
   "metadata": {},
   "outputs": [],
   "source": [
    "table = pd.DataFrame(data[0])"
   ]
  },
  {
   "cell_type": "code",
   "execution_count": 80,
   "id": "fc65f143",
   "metadata": {},
   "outputs": [],
   "source": [
    "table.rename(columns={'POS': 'POZ', 'TITLE': 'TYTUŁ', 'ARTIST': 'ARTYSTA', 'YEAR': 'ROK', 'HIGH POSN': 'MAX POZ'}, inplace = True)"
   ]
  },
  {
   "cell_type": "code",
   "execution_count": 81,
   "id": "d7976f05",
   "metadata": {},
   "outputs": [
    {
     "data": {
      "text/html": [
       "<div>\n",
       "<style scoped>\n",
       "    .dataframe tbody tr th:only-of-type {\n",
       "        vertical-align: middle;\n",
       "    }\n",
       "\n",
       "    .dataframe tbody tr th {\n",
       "        vertical-align: top;\n",
       "    }\n",
       "\n",
       "    .dataframe thead th {\n",
       "        text-align: right;\n",
       "    }\n",
       "</style>\n",
       "<table border=\"1\" class=\"dataframe\">\n",
       "  <thead>\n",
       "    <tr style=\"text-align: right;\">\n",
       "      <th></th>\n",
       "      <th>POZ</th>\n",
       "      <th>TYTUŁ</th>\n",
       "      <th>ARTYSTA</th>\n",
       "      <th>ROK</th>\n",
       "      <th>MAX POZ</th>\n",
       "    </tr>\n",
       "  </thead>\n",
       "  <tbody>\n",
       "    <tr>\n",
       "      <th>0</th>\n",
       "      <td>1</td>\n",
       "      <td>GREATEST HITS</td>\n",
       "      <td>QUEEN</td>\n",
       "      <td>1981</td>\n",
       "      <td>1</td>\n",
       "    </tr>\n",
       "    <tr>\n",
       "      <th>1</th>\n",
       "      <td>2</td>\n",
       "      <td>GOLD - GREATEST HITS</td>\n",
       "      <td>ABBA</td>\n",
       "      <td>1992</td>\n",
       "      <td>1</td>\n",
       "    </tr>\n",
       "    <tr>\n",
       "      <th>2</th>\n",
       "      <td>3</td>\n",
       "      <td>SGT PEPPER'S LONELY HEARTS CLUB BAND</td>\n",
       "      <td>BEATLES</td>\n",
       "      <td>1967</td>\n",
       "      <td>1</td>\n",
       "    </tr>\n",
       "    <tr>\n",
       "      <th>3</th>\n",
       "      <td>4</td>\n",
       "      <td>21</td>\n",
       "      <td>ADELE</td>\n",
       "      <td>2011</td>\n",
       "      <td>1</td>\n",
       "    </tr>\n",
       "    <tr>\n",
       "      <th>4</th>\n",
       "      <td>5</td>\n",
       "      <td>WHAT'S THE STORY MORNING GLORY</td>\n",
       "      <td>OASIS</td>\n",
       "      <td>1995</td>\n",
       "      <td>1</td>\n",
       "    </tr>\n",
       "  </tbody>\n",
       "</table>\n",
       "</div>"
      ],
      "text/plain": [
       "   POZ                                 TYTUŁ  ARTYSTA   ROK  MAX POZ\n",
       "0    1                         GREATEST HITS    QUEEN  1981        1\n",
       "1    2                  GOLD - GREATEST HITS     ABBA  1992        1\n",
       "2    3  SGT PEPPER'S LONELY HEARTS CLUB BAND  BEATLES  1967        1\n",
       "3    4                                    21    ADELE  2011        1\n",
       "4    5        WHAT'S THE STORY MORNING GLORY    OASIS  1995        1"
      ]
     },
     "execution_count": 81,
     "metadata": {},
     "output_type": "execute_result"
    }
   ],
   "source": [
    "table.head()"
   ]
  },
  {
   "cell_type": "markdown",
   "id": "e40110fa",
   "metadata": {},
   "source": [
    "### Ilu pojedynczych artystów znajduje się na liście?"
   ]
  },
  {
   "cell_type": "code",
   "execution_count": 82,
   "id": "a0f4aeb9",
   "metadata": {},
   "outputs": [
    {
     "data": {
      "text/plain": [
       "47"
      ]
     },
     "execution_count": 82,
     "metadata": {},
     "output_type": "execute_result"
    }
   ],
   "source": [
    "artist = table['ARTYSTA'].nunique()\n",
    "artist"
   ]
  },
  {
   "cell_type": "markdown",
   "id": "dbe6da3a",
   "metadata": {},
   "source": [
    "### Które zespoły pojawiają się najczęściej na liście?"
   ]
  },
  {
   "cell_type": "code",
   "execution_count": 83,
   "id": "1f784d70",
   "metadata": {},
   "outputs": [],
   "source": [
    "artist_top = table['ARTYSTA'].value_counts().head()"
   ]
  },
  {
   "cell_type": "code",
   "execution_count": 84,
   "id": "b31569f8",
   "metadata": {},
   "outputs": [
    {
     "data": {
      "text/plain": [
       "COLDPLAY         3\n",
       "TAKE THAT        3\n",
       "FLEETWOOD MAC    2\n",
       "ABBA             2\n",
       "DIDO             2\n",
       "Name: ARTYSTA, dtype: int64"
      ]
     },
     "execution_count": 84,
     "metadata": {},
     "output_type": "execute_result"
    }
   ],
   "source": [
    "artist_top"
   ]
  },
  {
   "cell_type": "markdown",
   "id": "e540cf9f",
   "metadata": {},
   "source": [
    "### Zmień nagłówki kolumn, tak aby każdy z nich rozpoczynał się od wielkiej litery, a pozostałe były wprowadzone małymi literami."
   ]
  },
  {
   "cell_type": "code",
   "execution_count": 85,
   "id": "09504b71",
   "metadata": {},
   "outputs": [
    {
     "data": {
      "text/html": [
       "<div>\n",
       "<style scoped>\n",
       "    .dataframe tbody tr th:only-of-type {\n",
       "        vertical-align: middle;\n",
       "    }\n",
       "\n",
       "    .dataframe tbody tr th {\n",
       "        vertical-align: top;\n",
       "    }\n",
       "\n",
       "    .dataframe thead th {\n",
       "        text-align: right;\n",
       "    }\n",
       "</style>\n",
       "<table border=\"1\" class=\"dataframe\">\n",
       "  <thead>\n",
       "    <tr style=\"text-align: right;\">\n",
       "      <th></th>\n",
       "      <th>Poz</th>\n",
       "      <th>Tytuł</th>\n",
       "      <th>Artysta</th>\n",
       "      <th>Rok</th>\n",
       "      <th>Max poz</th>\n",
       "    </tr>\n",
       "  </thead>\n",
       "  <tbody>\n",
       "    <tr>\n",
       "      <th>0</th>\n",
       "      <td>1</td>\n",
       "      <td>GREATEST HITS</td>\n",
       "      <td>QUEEN</td>\n",
       "      <td>1981</td>\n",
       "      <td>1</td>\n",
       "    </tr>\n",
       "    <tr>\n",
       "      <th>1</th>\n",
       "      <td>2</td>\n",
       "      <td>GOLD - GREATEST HITS</td>\n",
       "      <td>ABBA</td>\n",
       "      <td>1992</td>\n",
       "      <td>1</td>\n",
       "    </tr>\n",
       "    <tr>\n",
       "      <th>2</th>\n",
       "      <td>3</td>\n",
       "      <td>SGT PEPPER'S LONELY HEARTS CLUB BAND</td>\n",
       "      <td>BEATLES</td>\n",
       "      <td>1967</td>\n",
       "      <td>1</td>\n",
       "    </tr>\n",
       "    <tr>\n",
       "      <th>3</th>\n",
       "      <td>4</td>\n",
       "      <td>21</td>\n",
       "      <td>ADELE</td>\n",
       "      <td>2011</td>\n",
       "      <td>1</td>\n",
       "    </tr>\n",
       "    <tr>\n",
       "      <th>4</th>\n",
       "      <td>5</td>\n",
       "      <td>WHAT'S THE STORY MORNING GLORY</td>\n",
       "      <td>OASIS</td>\n",
       "      <td>1995</td>\n",
       "      <td>1</td>\n",
       "    </tr>\n",
       "  </tbody>\n",
       "</table>\n",
       "</div>"
      ],
      "text/plain": [
       "   Poz                                 Tytuł  Artysta   Rok  Max poz\n",
       "0    1                         GREATEST HITS    QUEEN  1981        1\n",
       "1    2                  GOLD - GREATEST HITS     ABBA  1992        1\n",
       "2    3  SGT PEPPER'S LONELY HEARTS CLUB BAND  BEATLES  1967        1\n",
       "3    4                                    21    ADELE  2011        1\n",
       "4    5        WHAT'S THE STORY MORNING GLORY    OASIS  1995        1"
      ]
     },
     "execution_count": 85,
     "metadata": {},
     "output_type": "execute_result"
    }
   ],
   "source": [
    "table.rename(str.capitalize, axis='columns', inplace = True)\n",
    "table.head()"
   ]
  },
  {
   "cell_type": "markdown",
   "id": "a43ce1a3",
   "metadata": {},
   "source": [
    "### Wyrzuć z tabeli kolumnę ‘Max Poz’."
   ]
  },
  {
   "cell_type": "code",
   "execution_count": 86,
   "id": "4234ca2e",
   "metadata": {},
   "outputs": [],
   "source": [
    "table.drop(columns = 'Max poz', inplace = True)"
   ]
  },
  {
   "cell_type": "code",
   "execution_count": 87,
   "id": "ddba73b9",
   "metadata": {},
   "outputs": [
    {
     "data": {
      "text/html": [
       "<div>\n",
       "<style scoped>\n",
       "    .dataframe tbody tr th:only-of-type {\n",
       "        vertical-align: middle;\n",
       "    }\n",
       "\n",
       "    .dataframe tbody tr th {\n",
       "        vertical-align: top;\n",
       "    }\n",
       "\n",
       "    .dataframe thead th {\n",
       "        text-align: right;\n",
       "    }\n",
       "</style>\n",
       "<table border=\"1\" class=\"dataframe\">\n",
       "  <thead>\n",
       "    <tr style=\"text-align: right;\">\n",
       "      <th></th>\n",
       "      <th>Poz</th>\n",
       "      <th>Tytuł</th>\n",
       "      <th>Artysta</th>\n",
       "      <th>Rok</th>\n",
       "    </tr>\n",
       "  </thead>\n",
       "  <tbody>\n",
       "    <tr>\n",
       "      <th>0</th>\n",
       "      <td>1</td>\n",
       "      <td>GREATEST HITS</td>\n",
       "      <td>QUEEN</td>\n",
       "      <td>1981</td>\n",
       "    </tr>\n",
       "    <tr>\n",
       "      <th>1</th>\n",
       "      <td>2</td>\n",
       "      <td>GOLD - GREATEST HITS</td>\n",
       "      <td>ABBA</td>\n",
       "      <td>1992</td>\n",
       "    </tr>\n",
       "    <tr>\n",
       "      <th>2</th>\n",
       "      <td>3</td>\n",
       "      <td>SGT PEPPER'S LONELY HEARTS CLUB BAND</td>\n",
       "      <td>BEATLES</td>\n",
       "      <td>1967</td>\n",
       "    </tr>\n",
       "    <tr>\n",
       "      <th>3</th>\n",
       "      <td>4</td>\n",
       "      <td>21</td>\n",
       "      <td>ADELE</td>\n",
       "      <td>2011</td>\n",
       "    </tr>\n",
       "    <tr>\n",
       "      <th>4</th>\n",
       "      <td>5</td>\n",
       "      <td>WHAT'S THE STORY MORNING GLORY</td>\n",
       "      <td>OASIS</td>\n",
       "      <td>1995</td>\n",
       "    </tr>\n",
       "  </tbody>\n",
       "</table>\n",
       "</div>"
      ],
      "text/plain": [
       "   Poz                                 Tytuł  Artysta   Rok\n",
       "0    1                         GREATEST HITS    QUEEN  1981\n",
       "1    2                  GOLD - GREATEST HITS     ABBA  1992\n",
       "2    3  SGT PEPPER'S LONELY HEARTS CLUB BAND  BEATLES  1967\n",
       "3    4                                    21    ADELE  2011\n",
       "4    5        WHAT'S THE STORY MORNING GLORY    OASIS  1995"
      ]
     },
     "execution_count": 87,
     "metadata": {},
     "output_type": "execute_result"
    }
   ],
   "source": [
    "table.head()"
   ]
  },
  {
   "cell_type": "markdown",
   "id": "6dbf72b4",
   "metadata": {},
   "source": [
    "### W którym roku wyszło najwięcej albumów znajdujących się na liście?"
   ]
  },
  {
   "cell_type": "code",
   "execution_count": 88,
   "id": "b594cbf2",
   "metadata": {},
   "outputs": [
    {
     "data": {
      "text/plain": [
       "2000    4\n",
       "1987    4\n",
       "2006    3\n",
       "1977    3\n",
       "1998    3\n",
       "Name: Rok, dtype: int64"
      ]
     },
     "execution_count": 88,
     "metadata": {},
     "output_type": "execute_result"
    }
   ],
   "source": [
    "table_y_max = table['Rok'].value_counts()\n",
    "table_y_max.head()"
   ]
  },
  {
   "cell_type": "markdown",
   "id": "33c3a9ad",
   "metadata": {},
   "source": [
    "### Ile albumów wydanych między 1960 a 1990 rokiem włącznie znajduje się na liście?"
   ]
  },
  {
   "cell_type": "code",
   "execution_count": 89,
   "id": "263766b0",
   "metadata": {},
   "outputs": [
    {
     "data": {
      "text/plain": [
       "22"
      ]
     },
     "execution_count": 89,
     "metadata": {},
     "output_type": "execute_result"
    }
   ],
   "source": [
    "t_60_90 = table[(table['Rok'] >= 1960) & (table['Rok'] <= 1990)]['Rok']\n",
    "t_60_90.count()"
   ]
  },
  {
   "cell_type": "markdown",
   "id": "1026d70d",
   "metadata": {},
   "source": [
    "### W którym roku wydany został najmłodszy album na liście?"
   ]
  },
  {
   "cell_type": "code",
   "execution_count": 90,
   "id": "a390691a",
   "metadata": {},
   "outputs": [
    {
     "data": {
      "text/html": [
       "<div>\n",
       "<style scoped>\n",
       "    .dataframe tbody tr th:only-of-type {\n",
       "        vertical-align: middle;\n",
       "    }\n",
       "\n",
       "    .dataframe tbody tr th {\n",
       "        vertical-align: top;\n",
       "    }\n",
       "\n",
       "    .dataframe thead th {\n",
       "        text-align: right;\n",
       "    }\n",
       "</style>\n",
       "<table border=\"1\" class=\"dataframe\">\n",
       "  <thead>\n",
       "    <tr style=\"text-align: right;\">\n",
       "      <th></th>\n",
       "      <th>Poz</th>\n",
       "      <th>Tytuł</th>\n",
       "      <th>Artysta</th>\n",
       "      <th>Rok</th>\n",
       "    </tr>\n",
       "  </thead>\n",
       "  <tbody>\n",
       "    <tr>\n",
       "      <th>51</th>\n",
       "      <td>52</td>\n",
       "      <td>THE SOUND OF MUSIC</td>\n",
       "      <td>ORIGINAL CAST RECORDING</td>\n",
       "      <td>1965</td>\n",
       "    </tr>\n",
       "  </tbody>\n",
       "</table>\n",
       "</div>"
      ],
      "text/plain": [
       "    Poz               Tytuł                  Artysta   Rok\n",
       "51   52  THE SOUND OF MUSIC  ORIGINAL CAST RECORDING  1965"
      ]
     },
     "execution_count": 90,
     "metadata": {},
     "output_type": "execute_result"
    }
   ],
   "source": [
    "table[table['Rok'] == min(table['Rok'])]"
   ]
  },
  {
   "cell_type": "markdown",
   "id": "918f39a0",
   "metadata": {},
   "source": [
    "### Przygotuj listę najwcześniej wydanych albumów każdego artysty, który znalazł się na liście."
   ]
  },
  {
   "cell_type": "code",
   "execution_count": 95,
   "id": "ba45a7b2",
   "metadata": {},
   "outputs": [],
   "source": [
    "artist_first_on_top = table.groupby('Artysta').agg({'Tytuł':'first','Rok':'min'})"
   ]
  },
  {
   "cell_type": "code",
   "execution_count": 102,
   "id": "5353bf63",
   "metadata": {},
   "outputs": [
    {
     "data": {
      "text/html": [
       "<div>\n",
       "<style scoped>\n",
       "    .dataframe tbody tr th:only-of-type {\n",
       "        vertical-align: middle;\n",
       "    }\n",
       "\n",
       "    .dataframe tbody tr th {\n",
       "        vertical-align: top;\n",
       "    }\n",
       "\n",
       "    .dataframe thead th {\n",
       "        text-align: right;\n",
       "    }\n",
       "</style>\n",
       "<table border=\"1\" class=\"dataframe\">\n",
       "  <thead>\n",
       "    <tr style=\"text-align: right;\">\n",
       "      <th></th>\n",
       "      <th>Tytuł</th>\n",
       "      <th>Rok</th>\n",
       "    </tr>\n",
       "    <tr>\n",
       "      <th>Artysta</th>\n",
       "      <th></th>\n",
       "      <th></th>\n",
       "    </tr>\n",
       "  </thead>\n",
       "  <tbody>\n",
       "    <tr>\n",
       "      <th>ORIGINAL CAST RECORDING</th>\n",
       "      <td>THE SOUND OF MUSIC</td>\n",
       "      <td>1965</td>\n",
       "    </tr>\n",
       "    <tr>\n",
       "      <th>BEATLES</th>\n",
       "      <td>SGT PEPPER'S LONELY HEARTS CLUB BAND</td>\n",
       "      <td>1967</td>\n",
       "    </tr>\n",
       "    <tr>\n",
       "      <th>SIMON &amp; GARFUNKEL</th>\n",
       "      <td>BRIDGE OVER TROUBLED WATER</td>\n",
       "      <td>1970</td>\n",
       "    </tr>\n",
       "    <tr>\n",
       "      <th>PINK FLOYD</th>\n",
       "      <td>THE DARK SIDE OF THE MOON</td>\n",
       "      <td>1973</td>\n",
       "    </tr>\n",
       "    <tr>\n",
       "      <th>MIKE OLDFIELD</th>\n",
       "      <td>TUBULAR BELLS</td>\n",
       "      <td>1973</td>\n",
       "    </tr>\n",
       "  </tbody>\n",
       "</table>\n",
       "</div>"
      ],
      "text/plain": [
       "                                                        Tytuł   Rok\n",
       "Artysta                                                            \n",
       "ORIGINAL CAST RECORDING                    THE SOUND OF MUSIC  1965\n",
       "BEATLES                  SGT PEPPER'S LONELY HEARTS CLUB BAND  1967\n",
       "SIMON & GARFUNKEL                  BRIDGE OVER TROUBLED WATER  1970\n",
       "PINK FLOYD                          THE DARK SIDE OF THE MOON  1973\n",
       "MIKE OLDFIELD                                   TUBULAR BELLS  1973"
      ]
     },
     "execution_count": 102,
     "metadata": {},
     "output_type": "execute_result"
    }
   ],
   "source": [
    "artist_first_on_top.sort_values('Rok').head()"
   ]
  },
  {
   "cell_type": "markdown",
   "id": "1a575127",
   "metadata": {},
   "source": [
    "### Listę zapisz do pliku csv"
   ]
  },
  {
   "cell_type": "code",
   "execution_count": 99,
   "id": "0e05cbc2",
   "metadata": {},
   "outputs": [],
   "source": [
    "list_to_excel = artist_first_on_top.sort_values('Rok')"
   ]
  },
  {
   "cell_type": "code",
   "execution_count": 101,
   "id": "c6193620",
   "metadata": {},
   "outputs": [],
   "source": [
    "list_to_excel.to_csv('ArtistFirstOnTop.xlsx', index=False)"
   ]
  }
 ],
 "metadata": {
  "kernelspec": {
   "display_name": "Python 3 (ipykernel)",
   "language": "python",
   "name": "python3"
  },
  "language_info": {
   "codemirror_mode": {
    "name": "ipython",
    "version": 3
   },
   "file_extension": ".py",
   "mimetype": "text/x-python",
   "name": "python",
   "nbconvert_exporter": "python",
   "pygments_lexer": "ipython3",
   "version": "3.9.13"
  }
 },
 "nbformat": 4,
 "nbformat_minor": 5
}
